{
 "cells": [
  {
   "cell_type": "markdown",
   "metadata": {},
   "source": [
    "## Random Agent"
   ]
  },
  {
   "cell_type": "code",
   "execution_count": 135,
   "metadata": {},
   "outputs": [],
   "source": [
    "import lyra_graphtool_test as lgtool\n",
    "from utils import ORIGN, BASIC_SITE, SITE1, SITE2,  SITE3, Node, Graph, Worker\n",
    "import random\n",
    "from copy import deepcopy"
   ]
  },
  {
   "cell_type": "markdown",
   "metadata": {},
   "source": [
    "# 1. Load Graph From JSON"
   ]
  },
  {
   "cell_type": "code",
   "execution_count": 136,
   "metadata": {},
   "outputs": [
    {
     "name": "stdout",
     "output_type": "stream",
     "text": [
      "Graph Initialised Successfully!\n"
     ]
    }
   ],
   "source": [
    "json_filename = \"Test_Graph_Slightly_Off_the_Beaten_Path/Test_Graph_Slightly_Off_the_Beaten_Path.json\"\n",
    "graph = Graph(json_filename=json_filename)"
   ]
  },
  {
   "cell_type": "markdown",
   "metadata": {},
   "source": [
    "# 2. Random Agent Class"
   ]
  },
  {
   "cell_type": "code",
   "execution_count": 137,
   "metadata": {},
   "outputs": [],
   "source": [
    "class RandomWalkAgent() :\n",
    "\n",
    "    def __init__(self, graph : Graph) -> None:\n",
    "        self.graph: Graph = graph\n",
    "        self.schedule: list = []\n",
    "        self.BUDGET = 10000.00\n",
    "        self.REWARD = 0.00\n",
    "        self.COST = 0.00\n",
    "        self.actions = [\"HIRE_1\", \"HIRE_2\", \"HIRE_3\", \"MOVE\", \"EXTRACT\"]\n",
    "        self.worker_list: list[Worker] = []\n",
    "\n",
    "    def hire_worker(self, action, ts):\n",
    "        schedule = None\n",
    "        if (self.BUDGET >= self.graph.get_worker_cost(1) and action == \"HIRE_1\"):\n",
    "            schedule = (1, self.graph.get_Origin(), ts + 1)\n",
    "            self.COST += self.graph.get_worker_cost(1)\n",
    "            self.BUDGET -= self.graph.get_worker_cost(1)\n",
    "            self.worker_list.append(Worker(1, self.graph.get_Origin(), self.graph.get_worker_cost(1), ts))\n",
    "        if (self.BUDGET >= self.graph.get_worker_cost(2) and action == \"HIRE_2\"):\n",
    "            schedule= (2, self.graph.get_Origin(), ts + 1)\n",
    "            self.COST += self.graph.get_worker_cost(2)\n",
    "            self.BUDGET -= self.graph.get_worker_cost(2)\n",
    "            self.worker_list.append(Worker(2, self.graph.get_Origin(), self.graph.get_worker_cost(2), ts))\n",
    "        if (self.BUDGET >= self.graph.get_worker_cost(3) and action == \"HIRE_3\"):\n",
    "            schedule=(3, self.graph.get_Origin(), ts + 1)\n",
    "            self.COST += self.graph.get_worker_cost(3)\n",
    "            self.BUDGET -= self.graph.get_worker_cost(3)\n",
    "            self.worker_list.append(Worker(3, self.graph.get_Origin(), self.graph.get_worker_cost(3), ts))\n",
    "        return schedule\n",
    "\n",
    "    def get_schedule(self):\n",
    "        for ts in range(20):\n",
    "            print(ts)\n",
    "            schedule = []\n",
    "            if (len(self.worker_list) == 0): # Case where its empty\n",
    "                print(\"Choosing to hire worker first\")\n",
    "                while(len(self.worker_list) == 0):\n",
    "                    chosen_action = random.choice([\"HIRE_1\", \"HIRE_2\", \"HIRE_3\"])\n",
    "                    schedule1 = self.hire_worker(chosen_action, ts)\n",
    "                    print(schedule1)\n",
    "                    schedule.append(schedule1)\n",
    "            else : \n",
    "                print(self.schedule)\n",
    "                for worker_state in self.schedule[-1]:\n",
    "                    worker_type, worker_location, worker_ts = worker_state\n",
    "                    if (worker_ts > ts):\n",
    "                        schedule.append(deepcopy(worker_state))\n",
    "                    else:\n",
    "                        if (not self.graph.is_reward_site_by_node(node=worker_location)):\n",
    "                            assert(worker_ts == ts)\n",
    "                            # deduct cost\n",
    "                            if (self.BUDGET < self.graph.get_worker_cost(worker_type)):\n",
    "                                continue\n",
    "                            self.COST += self.graph.get_worker_cost(worker_type)\n",
    "                            self.BUDGET -= self.graph.get_worker_cost(worker_type)\n",
    "                            neighbours = self.graph.get_adjacent_nodes_by_Node(worker_location)\n",
    "                            next_state: Node = random.choice(neighbours)\n",
    "                            if (self.graph.is_reward_site_by_node(next_state) and not next_state.is_accessed_before() and worker_type >= next_state.get_type()):\n",
    "                                next_state.access()\n",
    "                                schedule.append((worker_type, next_state, ts + next_state.get_acquire_time() + 1))\n",
    "                            else :\n",
    "                                schedule.append((worker_type,next_state, ts + 1))\n",
    "                        else:\n",
    "                            # worker is in reward site\n",
    "                            assert(worker_ts == ts)\n",
    "                            if (self.BUDGET >= self.graph.get_worker_cost(worker_type) * worker_location.get_acquire_time()):\n",
    "                                self.BUDGET -= self.graph.get_worker_cost(worker_type) * worker_location.get_acquire_time()\n",
    "                                self.COST += self.graph.get_site_reward(worker_location.get_type() - 1)\n",
    "                                self.REWARD += worker_location.get_reward()\n",
    "                                print(\"Get reward\")\n",
    "                                if (self.BUDGET < self.graph.get_worker_cost(worker_type)):\n",
    "                                    continue\n",
    "                                neighbours = self.graph.get_adjacent_nodes_by_Node(worker_location)\n",
    "                                next_state: Node = random.choice(neighbours)\n",
    "                                if (self.graph.is_reward_site_by_node(next_state) and not next_state.is_accessed_before() and worker_type >= next_state.get_type()):\n",
    "                                    next_state.access()\n",
    "                                    schedule.append((worker_type, next_state, ts + next_state.get_acquire_time() + 1))\n",
    "                                else :\n",
    "                                    schedule.append((worker_type,next_state, ts + 1))\n",
    "                            else:\n",
    "                                # fire the worker\n",
    "                                continue\n",
    "                if (random.choice([True, False]) and self.BUDGET >= self.graph.get_worker_cost(1)):\n",
    "                    while(True):\n",
    "                        schedule1 = self.hire_worker(random.choice([\"HIRE_1\", \"HIRE_2\", \"HIRE_3\"]), ts)\n",
    "                        if (schedule1 is None):\n",
    "                            new_worker = None\n",
    "                        else:\n",
    "                            schedule.append(schedule1)\n",
    "                            break\n",
    "            self.schedule.append(schedule)\n",
    "        print(self.schedule)\n",
    "        return self.schedule\n",
    "    \n",
    "    def get_profit(self):\n",
    "        print(f'Rewards: {self.REWARD}, COST: {self.COST}, $ LEFT: {self.BUDGET}')\n",
    "        return self.REWARD - self.COST\n"
   ]
  },
  {
   "cell_type": "code",
   "execution_count": 138,
   "metadata": {},
   "outputs": [],
   "source": [
    "rwa = RandomWalkAgent(graph)"
   ]
  },
  {
   "cell_type": "code",
   "execution_count": 139,
   "metadata": {},
   "outputs": [
    {
     "name": "stdout",
     "output_type": "stream",
     "text": [
      "0\n",
      "Choosing to hire worker first\n",
      "(3, ((1, 4) TYPE : 1), 1)\n",
      "1\n",
      "[[(3, ((1, 4) TYPE : 1), 1)]]\n",
      "Get reward\n",
      "2\n",
      "[[(3, ((1, 4) TYPE : 1), 1)], [(3, ((0, 3) TYPE : 0), 2), (1, ((1, 4) TYPE : 1), 2)]]\n",
      "Get reward\n",
      "3\n",
      "[[(3, ((1, 4) TYPE : 1), 1)], [(3, ((0, 3) TYPE : 0), 2), (1, ((1, 4) TYPE : 1), 2)], [(3, ((1, 4) TYPE : 1), 3), (1, ((0, 3) TYPE : 0), 3)]]\n",
      "Get reward\n",
      "4\n",
      "[[(3, ((1, 4) TYPE : 1), 1)], [(3, ((0, 3) TYPE : 0), 2), (1, ((1, 4) TYPE : 1), 2)], [(3, ((1, 4) TYPE : 1), 3), (1, ((0, 3) TYPE : 0), 3)], [(3, ((0, 3) TYPE : 0), 4), (1, ((1, 4) TYPE : 1), 4), (2, ((1, 4) TYPE : 1), 4)]]\n",
      "Get reward\n",
      "Get reward\n",
      "5\n",
      "[[(3, ((1, 4) TYPE : 1), 1)], [(3, ((0, 3) TYPE : 0), 2), (1, ((1, 4) TYPE : 1), 2)], [(3, ((1, 4) TYPE : 1), 3), (1, ((0, 3) TYPE : 0), 3)], [(3, ((0, 3) TYPE : 0), 4), (1, ((1, 4) TYPE : 1), 4), (2, ((1, 4) TYPE : 1), 4)], [(3, ((1, 4) TYPE : 1), 5), (1, ((0, 3) TYPE : 0), 5), (2, ((0, 3) TYPE : 0), 5)]]\n",
      "Get reward\n",
      "6\n",
      "[[(3, ((1, 4) TYPE : 1), 1)], [(3, ((0, 3) TYPE : 0), 2), (1, ((1, 4) TYPE : 1), 2)], [(3, ((1, 4) TYPE : 1), 3), (1, ((0, 3) TYPE : 0), 3)], [(3, ((0, 3) TYPE : 0), 4), (1, ((1, 4) TYPE : 1), 4), (2, ((1, 4) TYPE : 1), 4)], [(3, ((1, 4) TYPE : 1), 5), (1, ((0, 3) TYPE : 0), 5), (2, ((0, 3) TYPE : 0), 5)], [(3, ((2, 4) TYPE : 0), 6), (1, ((1, 4) TYPE : 1), 6), (2, ((1, 4) TYPE : 1), 6)]]\n",
      "Get reward\n",
      "Get reward\n",
      "7\n",
      "[[(3, ((1, 4) TYPE : 1), 1)], [(3, ((0, 3) TYPE : 0), 2), (1, ((1, 4) TYPE : 1), 2)], [(3, ((1, 4) TYPE : 1), 3), (1, ((0, 3) TYPE : 0), 3)], [(3, ((0, 3) TYPE : 0), 4), (1, ((1, 4) TYPE : 1), 4), (2, ((1, 4) TYPE : 1), 4)], [(3, ((1, 4) TYPE : 1), 5), (1, ((0, 3) TYPE : 0), 5), (2, ((0, 3) TYPE : 0), 5)], [(3, ((2, 4) TYPE : 0), 6), (1, ((1, 4) TYPE : 1), 6), (2, ((1, 4) TYPE : 1), 6)], [(3, ((3, 5) TYPE : 4), 7), (1, ((2, 4) TYPE : 0), 7), (2, ((1, 5) TYPE : 0), 7), (1, ((1, 4) TYPE : 1), 7)]]\n",
      "Get reward\n",
      "Get reward\n",
      "8\n",
      "[[(3, ((1, 4) TYPE : 1), 1)], [(3, ((0, 3) TYPE : 0), 2), (1, ((1, 4) TYPE : 1), 2)], [(3, ((1, 4) TYPE : 1), 3), (1, ((0, 3) TYPE : 0), 3)], [(3, ((0, 3) TYPE : 0), 4), (1, ((1, 4) TYPE : 1), 4), (2, ((1, 4) TYPE : 1), 4)], [(3, ((1, 4) TYPE : 1), 5), (1, ((0, 3) TYPE : 0), 5), (2, ((0, 3) TYPE : 0), 5)], [(3, ((2, 4) TYPE : 0), 6), (1, ((1, 4) TYPE : 1), 6), (2, ((1, 4) TYPE : 1), 6)], [(3, ((3, 5) TYPE : 4), 7), (1, ((2, 4) TYPE : 0), 7), (2, ((1, 5) TYPE : 0), 7), (1, ((1, 4) TYPE : 1), 7)], [(3, ((2, 6) TYPE : 0), 8), (1, ((1, 4) TYPE : 1), 8), (2, ((2, 6) TYPE : 0), 8), (1, ((1, 5) TYPE : 0), 8)]]\n",
      "Get reward\n",
      "9\n",
      "[[(3, ((1, 4) TYPE : 1), 1)], [(3, ((0, 3) TYPE : 0), 2), (1, ((1, 4) TYPE : 1), 2)], [(3, ((1, 4) TYPE : 1), 3), (1, ((0, 3) TYPE : 0), 3)], [(3, ((0, 3) TYPE : 0), 4), (1, ((1, 4) TYPE : 1), 4), (2, ((1, 4) TYPE : 1), 4)], [(3, ((1, 4) TYPE : 1), 5), (1, ((0, 3) TYPE : 0), 5), (2, ((0, 3) TYPE : 0), 5)], [(3, ((2, 4) TYPE : 0), 6), (1, ((1, 4) TYPE : 1), 6), (2, ((1, 4) TYPE : 1), 6)], [(3, ((3, 5) TYPE : 4), 7), (1, ((2, 4) TYPE : 0), 7), (2, ((1, 5) TYPE : 0), 7), (1, ((1, 4) TYPE : 1), 7)], [(3, ((2, 6) TYPE : 0), 8), (1, ((1, 4) TYPE : 1), 8), (2, ((2, 6) TYPE : 0), 8), (1, ((1, 5) TYPE : 0), 8)], [(3, ((3, 7) TYPE : 2), 10), (1, ((0, 3) TYPE : 0), 9), (2, ((1, 5) TYPE : 0), 9), (1, ((2, 6) TYPE : 0), 9)]]\n",
      "10\n",
      "[[(3, ((1, 4) TYPE : 1), 1)], [(3, ((0, 3) TYPE : 0), 2), (1, ((1, 4) TYPE : 1), 2)], [(3, ((1, 4) TYPE : 1), 3), (1, ((0, 3) TYPE : 0), 3)], [(3, ((0, 3) TYPE : 0), 4), (1, ((1, 4) TYPE : 1), 4), (2, ((1, 4) TYPE : 1), 4)], [(3, ((1, 4) TYPE : 1), 5), (1, ((0, 3) TYPE : 0), 5), (2, ((0, 3) TYPE : 0), 5)], [(3, ((2, 4) TYPE : 0), 6), (1, ((1, 4) TYPE : 1), 6), (2, ((1, 4) TYPE : 1), 6)], [(3, ((3, 5) TYPE : 4), 7), (1, ((2, 4) TYPE : 0), 7), (2, ((1, 5) TYPE : 0), 7), (1, ((1, 4) TYPE : 1), 7)], [(3, ((2, 6) TYPE : 0), 8), (1, ((1, 4) TYPE : 1), 8), (2, ((2, 6) TYPE : 0), 8), (1, ((1, 5) TYPE : 0), 8)], [(3, ((3, 7) TYPE : 2), 10), (1, ((0, 3) TYPE : 0), 9), (2, ((1, 5) TYPE : 0), 9), (1, ((2, 6) TYPE : 0), 9)], [(3, ((3, 7) TYPE : 2), 10), (1, ((1, 4) TYPE : 1), 10), (2, ((2, 6) TYPE : 0), 10), (1, ((1, 5) TYPE : 0), 10)]]\n",
      "Get reward\n",
      "Get reward\n",
      "11\n",
      "[[(3, ((1, 4) TYPE : 1), 1)], [(3, ((0, 3) TYPE : 0), 2), (1, ((1, 4) TYPE : 1), 2)], [(3, ((1, 4) TYPE : 1), 3), (1, ((0, 3) TYPE : 0), 3)], [(3, ((0, 3) TYPE : 0), 4), (1, ((1, 4) TYPE : 1), 4), (2, ((1, 4) TYPE : 1), 4)], [(3, ((1, 4) TYPE : 1), 5), (1, ((0, 3) TYPE : 0), 5), (2, ((0, 3) TYPE : 0), 5)], [(3, ((2, 4) TYPE : 0), 6), (1, ((1, 4) TYPE : 1), 6), (2, ((1, 4) TYPE : 1), 6)], [(3, ((3, 5) TYPE : 4), 7), (1, ((2, 4) TYPE : 0), 7), (2, ((1, 5) TYPE : 0), 7), (1, ((1, 4) TYPE : 1), 7)], [(3, ((2, 6) TYPE : 0), 8), (1, ((1, 4) TYPE : 1), 8), (2, ((2, 6) TYPE : 0), 8), (1, ((1, 5) TYPE : 0), 8)], [(3, ((3, 7) TYPE : 2), 10), (1, ((0, 3) TYPE : 0), 9), (2, ((1, 5) TYPE : 0), 9), (1, ((2, 6) TYPE : 0), 9)], [(3, ((3, 7) TYPE : 2), 10), (1, ((1, 4) TYPE : 1), 10), (2, ((2, 6) TYPE : 0), 10), (1, ((1, 5) TYPE : 0), 10)], [(3, ((2, 6) TYPE : 0), 11), (1, ((2, 4) TYPE : 0), 11), (2, ((3, 7) TYPE : 2), 11), (1, ((1, 6) TYPE : 4), 11)]]\n",
      "Get reward\n",
      "Get reward\n",
      "12\n",
      "[[(3, ((1, 4) TYPE : 1), 1)], [(3, ((0, 3) TYPE : 0), 2), (1, ((1, 4) TYPE : 1), 2)], [(3, ((1, 4) TYPE : 1), 3), (1, ((0, 3) TYPE : 0), 3)], [(3, ((0, 3) TYPE : 0), 4), (1, ((1, 4) TYPE : 1), 4), (2, ((1, 4) TYPE : 1), 4)], [(3, ((1, 4) TYPE : 1), 5), (1, ((0, 3) TYPE : 0), 5), (2, ((0, 3) TYPE : 0), 5)], [(3, ((2, 4) TYPE : 0), 6), (1, ((1, 4) TYPE : 1), 6), (2, ((1, 4) TYPE : 1), 6)], [(3, ((3, 5) TYPE : 4), 7), (1, ((2, 4) TYPE : 0), 7), (2, ((1, 5) TYPE : 0), 7), (1, ((1, 4) TYPE : 1), 7)], [(3, ((2, 6) TYPE : 0), 8), (1, ((1, 4) TYPE : 1), 8), (2, ((2, 6) TYPE : 0), 8), (1, ((1, 5) TYPE : 0), 8)], [(3, ((3, 7) TYPE : 2), 10), (1, ((0, 3) TYPE : 0), 9), (2, ((1, 5) TYPE : 0), 9), (1, ((2, 6) TYPE : 0), 9)], [(3, ((3, 7) TYPE : 2), 10), (1, ((1, 4) TYPE : 1), 10), (2, ((2, 6) TYPE : 0), 10), (1, ((1, 5) TYPE : 0), 10)], [(3, ((2, 6) TYPE : 0), 11), (1, ((2, 4) TYPE : 0), 11), (2, ((3, 7) TYPE : 2), 11), (1, ((1, 6) TYPE : 4), 11)], [(3, ((3, 5) TYPE : 4), 12), (1, ((3, 5) TYPE : 4), 12), (2, ((3, 8) TYPE : 2), 13), (1, ((1, 5) TYPE : 0), 12)]]\n",
      "Get reward\n",
      "Get reward\n",
      "13\n",
      "[[(3, ((1, 4) TYPE : 1), 1)], [(3, ((0, 3) TYPE : 0), 2), (1, ((1, 4) TYPE : 1), 2)], [(3, ((1, 4) TYPE : 1), 3), (1, ((0, 3) TYPE : 0), 3)], [(3, ((0, 3) TYPE : 0), 4), (1, ((1, 4) TYPE : 1), 4), (2, ((1, 4) TYPE : 1), 4)], [(3, ((1, 4) TYPE : 1), 5), (1, ((0, 3) TYPE : 0), 5), (2, ((0, 3) TYPE : 0), 5)], [(3, ((2, 4) TYPE : 0), 6), (1, ((1, 4) TYPE : 1), 6), (2, ((1, 4) TYPE : 1), 6)], [(3, ((3, 5) TYPE : 4), 7), (1, ((2, 4) TYPE : 0), 7), (2, ((1, 5) TYPE : 0), 7), (1, ((1, 4) TYPE : 1), 7)], [(3, ((2, 6) TYPE : 0), 8), (1, ((1, 4) TYPE : 1), 8), (2, ((2, 6) TYPE : 0), 8), (1, ((1, 5) TYPE : 0), 8)], [(3, ((3, 7) TYPE : 2), 10), (1, ((0, 3) TYPE : 0), 9), (2, ((1, 5) TYPE : 0), 9), (1, ((2, 6) TYPE : 0), 9)], [(3, ((3, 7) TYPE : 2), 10), (1, ((1, 4) TYPE : 1), 10), (2, ((2, 6) TYPE : 0), 10), (1, ((1, 5) TYPE : 0), 10)], [(3, ((2, 6) TYPE : 0), 11), (1, ((2, 4) TYPE : 0), 11), (2, ((3, 7) TYPE : 2), 11), (1, ((1, 6) TYPE : 4), 11)], [(3, ((3, 5) TYPE : 4), 12), (1, ((3, 5) TYPE : 4), 12), (2, ((3, 8) TYPE : 2), 13), (1, ((1, 5) TYPE : 0), 12)], [(3, ((4, 5) TYPE : 0), 13), (1, ((2, 4) TYPE : 0), 13), (2, ((3, 8) TYPE : 2), 13), (1, ((2, 4) TYPE : 0), 13), (1, ((1, 4) TYPE : 1), 13)]]\n",
      "Get reward\n",
      "Get reward\n",
      "14\n",
      "[[(3, ((1, 4) TYPE : 1), 1)], [(3, ((0, 3) TYPE : 0), 2), (1, ((1, 4) TYPE : 1), 2)], [(3, ((1, 4) TYPE : 1), 3), (1, ((0, 3) TYPE : 0), 3)], [(3, ((0, 3) TYPE : 0), 4), (1, ((1, 4) TYPE : 1), 4), (2, ((1, 4) TYPE : 1), 4)], [(3, ((1, 4) TYPE : 1), 5), (1, ((0, 3) TYPE : 0), 5), (2, ((0, 3) TYPE : 0), 5)], [(3, ((2, 4) TYPE : 0), 6), (1, ((1, 4) TYPE : 1), 6), (2, ((1, 4) TYPE : 1), 6)], [(3, ((3, 5) TYPE : 4), 7), (1, ((2, 4) TYPE : 0), 7), (2, ((1, 5) TYPE : 0), 7), (1, ((1, 4) TYPE : 1), 7)], [(3, ((2, 6) TYPE : 0), 8), (1, ((1, 4) TYPE : 1), 8), (2, ((2, 6) TYPE : 0), 8), (1, ((1, 5) TYPE : 0), 8)], [(3, ((3, 7) TYPE : 2), 10), (1, ((0, 3) TYPE : 0), 9), (2, ((1, 5) TYPE : 0), 9), (1, ((2, 6) TYPE : 0), 9)], [(3, ((3, 7) TYPE : 2), 10), (1, ((1, 4) TYPE : 1), 10), (2, ((2, 6) TYPE : 0), 10), (1, ((1, 5) TYPE : 0), 10)], [(3, ((2, 6) TYPE : 0), 11), (1, ((2, 4) TYPE : 0), 11), (2, ((3, 7) TYPE : 2), 11), (1, ((1, 6) TYPE : 4), 11)], [(3, ((3, 5) TYPE : 4), 12), (1, ((3, 5) TYPE : 4), 12), (2, ((3, 8) TYPE : 2), 13), (1, ((1, 5) TYPE : 0), 12)], [(3, ((4, 5) TYPE : 0), 13), (1, ((2, 4) TYPE : 0), 13), (2, ((3, 8) TYPE : 2), 13), (1, ((2, 4) TYPE : 0), 13), (1, ((1, 4) TYPE : 1), 13)], [(1, ((3, 5) TYPE : 4), 14)]]\n",
      "15\n",
      "[[(3, ((1, 4) TYPE : 1), 1)], [(3, ((0, 3) TYPE : 0), 2), (1, ((1, 4) TYPE : 1), 2)], [(3, ((1, 4) TYPE : 1), 3), (1, ((0, 3) TYPE : 0), 3)], [(3, ((0, 3) TYPE : 0), 4), (1, ((1, 4) TYPE : 1), 4), (2, ((1, 4) TYPE : 1), 4)], [(3, ((1, 4) TYPE : 1), 5), (1, ((0, 3) TYPE : 0), 5), (2, ((0, 3) TYPE : 0), 5)], [(3, ((2, 4) TYPE : 0), 6), (1, ((1, 4) TYPE : 1), 6), (2, ((1, 4) TYPE : 1), 6)], [(3, ((3, 5) TYPE : 4), 7), (1, ((2, 4) TYPE : 0), 7), (2, ((1, 5) TYPE : 0), 7), (1, ((1, 4) TYPE : 1), 7)], [(3, ((2, 6) TYPE : 0), 8), (1, ((1, 4) TYPE : 1), 8), (2, ((2, 6) TYPE : 0), 8), (1, ((1, 5) TYPE : 0), 8)], [(3, ((3, 7) TYPE : 2), 10), (1, ((0, 3) TYPE : 0), 9), (2, ((1, 5) TYPE : 0), 9), (1, ((2, 6) TYPE : 0), 9)], [(3, ((3, 7) TYPE : 2), 10), (1, ((1, 4) TYPE : 1), 10), (2, ((2, 6) TYPE : 0), 10), (1, ((1, 5) TYPE : 0), 10)], [(3, ((2, 6) TYPE : 0), 11), (1, ((2, 4) TYPE : 0), 11), (2, ((3, 7) TYPE : 2), 11), (1, ((1, 6) TYPE : 4), 11)], [(3, ((3, 5) TYPE : 4), 12), (1, ((3, 5) TYPE : 4), 12), (2, ((3, 8) TYPE : 2), 13), (1, ((1, 5) TYPE : 0), 12)], [(3, ((4, 5) TYPE : 0), 13), (1, ((2, 4) TYPE : 0), 13), (2, ((3, 8) TYPE : 2), 13), (1, ((2, 4) TYPE : 0), 13), (1, ((1, 4) TYPE : 1), 13)], [(1, ((3, 5) TYPE : 4), 14)], []]\n",
      "16\n",
      "[[(3, ((1, 4) TYPE : 1), 1)], [(3, ((0, 3) TYPE : 0), 2), (1, ((1, 4) TYPE : 1), 2)], [(3, ((1, 4) TYPE : 1), 3), (1, ((0, 3) TYPE : 0), 3)], [(3, ((0, 3) TYPE : 0), 4), (1, ((1, 4) TYPE : 1), 4), (2, ((1, 4) TYPE : 1), 4)], [(3, ((1, 4) TYPE : 1), 5), (1, ((0, 3) TYPE : 0), 5), (2, ((0, 3) TYPE : 0), 5)], [(3, ((2, 4) TYPE : 0), 6), (1, ((1, 4) TYPE : 1), 6), (2, ((1, 4) TYPE : 1), 6)], [(3, ((3, 5) TYPE : 4), 7), (1, ((2, 4) TYPE : 0), 7), (2, ((1, 5) TYPE : 0), 7), (1, ((1, 4) TYPE : 1), 7)], [(3, ((2, 6) TYPE : 0), 8), (1, ((1, 4) TYPE : 1), 8), (2, ((2, 6) TYPE : 0), 8), (1, ((1, 5) TYPE : 0), 8)], [(3, ((3, 7) TYPE : 2), 10), (1, ((0, 3) TYPE : 0), 9), (2, ((1, 5) TYPE : 0), 9), (1, ((2, 6) TYPE : 0), 9)], [(3, ((3, 7) TYPE : 2), 10), (1, ((1, 4) TYPE : 1), 10), (2, ((2, 6) TYPE : 0), 10), (1, ((1, 5) TYPE : 0), 10)], [(3, ((2, 6) TYPE : 0), 11), (1, ((2, 4) TYPE : 0), 11), (2, ((3, 7) TYPE : 2), 11), (1, ((1, 6) TYPE : 4), 11)], [(3, ((3, 5) TYPE : 4), 12), (1, ((3, 5) TYPE : 4), 12), (2, ((3, 8) TYPE : 2), 13), (1, ((1, 5) TYPE : 0), 12)], [(3, ((4, 5) TYPE : 0), 13), (1, ((2, 4) TYPE : 0), 13), (2, ((3, 8) TYPE : 2), 13), (1, ((2, 4) TYPE : 0), 13), (1, ((1, 4) TYPE : 1), 13)], [(1, ((3, 5) TYPE : 4), 14)], [], []]\n",
      "17\n",
      "[[(3, ((1, 4) TYPE : 1), 1)], [(3, ((0, 3) TYPE : 0), 2), (1, ((1, 4) TYPE : 1), 2)], [(3, ((1, 4) TYPE : 1), 3), (1, ((0, 3) TYPE : 0), 3)], [(3, ((0, 3) TYPE : 0), 4), (1, ((1, 4) TYPE : 1), 4), (2, ((1, 4) TYPE : 1), 4)], [(3, ((1, 4) TYPE : 1), 5), (1, ((0, 3) TYPE : 0), 5), (2, ((0, 3) TYPE : 0), 5)], [(3, ((2, 4) TYPE : 0), 6), (1, ((1, 4) TYPE : 1), 6), (2, ((1, 4) TYPE : 1), 6)], [(3, ((3, 5) TYPE : 4), 7), (1, ((2, 4) TYPE : 0), 7), (2, ((1, 5) TYPE : 0), 7), (1, ((1, 4) TYPE : 1), 7)], [(3, ((2, 6) TYPE : 0), 8), (1, ((1, 4) TYPE : 1), 8), (2, ((2, 6) TYPE : 0), 8), (1, ((1, 5) TYPE : 0), 8)], [(3, ((3, 7) TYPE : 2), 10), (1, ((0, 3) TYPE : 0), 9), (2, ((1, 5) TYPE : 0), 9), (1, ((2, 6) TYPE : 0), 9)], [(3, ((3, 7) TYPE : 2), 10), (1, ((1, 4) TYPE : 1), 10), (2, ((2, 6) TYPE : 0), 10), (1, ((1, 5) TYPE : 0), 10)], [(3, ((2, 6) TYPE : 0), 11), (1, ((2, 4) TYPE : 0), 11), (2, ((3, 7) TYPE : 2), 11), (1, ((1, 6) TYPE : 4), 11)], [(3, ((3, 5) TYPE : 4), 12), (1, ((3, 5) TYPE : 4), 12), (2, ((3, 8) TYPE : 2), 13), (1, ((1, 5) TYPE : 0), 12)], [(3, ((4, 5) TYPE : 0), 13), (1, ((2, 4) TYPE : 0), 13), (2, ((3, 8) TYPE : 2), 13), (1, ((2, 4) TYPE : 0), 13), (1, ((1, 4) TYPE : 1), 13)], [(1, ((3, 5) TYPE : 4), 14)], [], [], []]\n",
      "18\n",
      "[[(3, ((1, 4) TYPE : 1), 1)], [(3, ((0, 3) TYPE : 0), 2), (1, ((1, 4) TYPE : 1), 2)], [(3, ((1, 4) TYPE : 1), 3), (1, ((0, 3) TYPE : 0), 3)], [(3, ((0, 3) TYPE : 0), 4), (1, ((1, 4) TYPE : 1), 4), (2, ((1, 4) TYPE : 1), 4)], [(3, ((1, 4) TYPE : 1), 5), (1, ((0, 3) TYPE : 0), 5), (2, ((0, 3) TYPE : 0), 5)], [(3, ((2, 4) TYPE : 0), 6), (1, ((1, 4) TYPE : 1), 6), (2, ((1, 4) TYPE : 1), 6)], [(3, ((3, 5) TYPE : 4), 7), (1, ((2, 4) TYPE : 0), 7), (2, ((1, 5) TYPE : 0), 7), (1, ((1, 4) TYPE : 1), 7)], [(3, ((2, 6) TYPE : 0), 8), (1, ((1, 4) TYPE : 1), 8), (2, ((2, 6) TYPE : 0), 8), (1, ((1, 5) TYPE : 0), 8)], [(3, ((3, 7) TYPE : 2), 10), (1, ((0, 3) TYPE : 0), 9), (2, ((1, 5) TYPE : 0), 9), (1, ((2, 6) TYPE : 0), 9)], [(3, ((3, 7) TYPE : 2), 10), (1, ((1, 4) TYPE : 1), 10), (2, ((2, 6) TYPE : 0), 10), (1, ((1, 5) TYPE : 0), 10)], [(3, ((2, 6) TYPE : 0), 11), (1, ((2, 4) TYPE : 0), 11), (2, ((3, 7) TYPE : 2), 11), (1, ((1, 6) TYPE : 4), 11)], [(3, ((3, 5) TYPE : 4), 12), (1, ((3, 5) TYPE : 4), 12), (2, ((3, 8) TYPE : 2), 13), (1, ((1, 5) TYPE : 0), 12)], [(3, ((4, 5) TYPE : 0), 13), (1, ((2, 4) TYPE : 0), 13), (2, ((3, 8) TYPE : 2), 13), (1, ((2, 4) TYPE : 0), 13), (1, ((1, 4) TYPE : 1), 13)], [(1, ((3, 5) TYPE : 4), 14)], [], [], [], []]\n",
      "19\n",
      "[[(3, ((1, 4) TYPE : 1), 1)], [(3, ((0, 3) TYPE : 0), 2), (1, ((1, 4) TYPE : 1), 2)], [(3, ((1, 4) TYPE : 1), 3), (1, ((0, 3) TYPE : 0), 3)], [(3, ((0, 3) TYPE : 0), 4), (1, ((1, 4) TYPE : 1), 4), (2, ((1, 4) TYPE : 1), 4)], [(3, ((1, 4) TYPE : 1), 5), (1, ((0, 3) TYPE : 0), 5), (2, ((0, 3) TYPE : 0), 5)], [(3, ((2, 4) TYPE : 0), 6), (1, ((1, 4) TYPE : 1), 6), (2, ((1, 4) TYPE : 1), 6)], [(3, ((3, 5) TYPE : 4), 7), (1, ((2, 4) TYPE : 0), 7), (2, ((1, 5) TYPE : 0), 7), (1, ((1, 4) TYPE : 1), 7)], [(3, ((2, 6) TYPE : 0), 8), (1, ((1, 4) TYPE : 1), 8), (2, ((2, 6) TYPE : 0), 8), (1, ((1, 5) TYPE : 0), 8)], [(3, ((3, 7) TYPE : 2), 10), (1, ((0, 3) TYPE : 0), 9), (2, ((1, 5) TYPE : 0), 9), (1, ((2, 6) TYPE : 0), 9)], [(3, ((3, 7) TYPE : 2), 10), (1, ((1, 4) TYPE : 1), 10), (2, ((2, 6) TYPE : 0), 10), (1, ((1, 5) TYPE : 0), 10)], [(3, ((2, 6) TYPE : 0), 11), (1, ((2, 4) TYPE : 0), 11), (2, ((3, 7) TYPE : 2), 11), (1, ((1, 6) TYPE : 4), 11)], [(3, ((3, 5) TYPE : 4), 12), (1, ((3, 5) TYPE : 4), 12), (2, ((3, 8) TYPE : 2), 13), (1, ((1, 5) TYPE : 0), 12)], [(3, ((4, 5) TYPE : 0), 13), (1, ((2, 4) TYPE : 0), 13), (2, ((3, 8) TYPE : 2), 13), (1, ((2, 4) TYPE : 0), 13), (1, ((1, 4) TYPE : 1), 13)], [(1, ((3, 5) TYPE : 4), 14)], [], [], [], [], []]\n",
      "[[(3, ((1, 4) TYPE : 1), 1)], [(3, ((0, 3) TYPE : 0), 2), (1, ((1, 4) TYPE : 1), 2)], [(3, ((1, 4) TYPE : 1), 3), (1, ((0, 3) TYPE : 0), 3)], [(3, ((0, 3) TYPE : 0), 4), (1, ((1, 4) TYPE : 1), 4), (2, ((1, 4) TYPE : 1), 4)], [(3, ((1, 4) TYPE : 1), 5), (1, ((0, 3) TYPE : 0), 5), (2, ((0, 3) TYPE : 0), 5)], [(3, ((2, 4) TYPE : 0), 6), (1, ((1, 4) TYPE : 1), 6), (2, ((1, 4) TYPE : 1), 6)], [(3, ((3, 5) TYPE : 4), 7), (1, ((2, 4) TYPE : 0), 7), (2, ((1, 5) TYPE : 0), 7), (1, ((1, 4) TYPE : 1), 7)], [(3, ((2, 6) TYPE : 0), 8), (1, ((1, 4) TYPE : 1), 8), (2, ((2, 6) TYPE : 0), 8), (1, ((1, 5) TYPE : 0), 8)], [(3, ((3, 7) TYPE : 2), 10), (1, ((0, 3) TYPE : 0), 9), (2, ((1, 5) TYPE : 0), 9), (1, ((2, 6) TYPE : 0), 9)], [(3, ((3, 7) TYPE : 2), 10), (1, ((1, 4) TYPE : 1), 10), (2, ((2, 6) TYPE : 0), 10), (1, ((1, 5) TYPE : 0), 10)], [(3, ((2, 6) TYPE : 0), 11), (1, ((2, 4) TYPE : 0), 11), (2, ((3, 7) TYPE : 2), 11), (1, ((1, 6) TYPE : 4), 11)], [(3, ((3, 5) TYPE : 4), 12), (1, ((3, 5) TYPE : 4), 12), (2, ((3, 8) TYPE : 2), 13), (1, ((1, 5) TYPE : 0), 12)], [(3, ((4, 5) TYPE : 0), 13), (1, ((2, 4) TYPE : 0), 13), (2, ((3, 8) TYPE : 2), 13), (1, ((2, 4) TYPE : 0), 13), (1, ((1, 4) TYPE : 1), 13)], [(1, ((3, 5) TYPE : 4), 14)], [], [], [], [], [], []]\n"
     ]
    },
    {
     "data": {
      "text/plain": [
       "[[(3, ((1, 4) TYPE : 1), 1)],\n",
       " [(3, ((0, 3) TYPE : 0), 2), (1, ((1, 4) TYPE : 1), 2)],\n",
       " [(3, ((1, 4) TYPE : 1), 3), (1, ((0, 3) TYPE : 0), 3)],\n",
       " [(3, ((0, 3) TYPE : 0), 4),\n",
       "  (1, ((1, 4) TYPE : 1), 4),\n",
       "  (2, ((1, 4) TYPE : 1), 4)],\n",
       " [(3, ((1, 4) TYPE : 1), 5),\n",
       "  (1, ((0, 3) TYPE : 0), 5),\n",
       "  (2, ((0, 3) TYPE : 0), 5)],\n",
       " [(3, ((2, 4) TYPE : 0), 6),\n",
       "  (1, ((1, 4) TYPE : 1), 6),\n",
       "  (2, ((1, 4) TYPE : 1), 6)],\n",
       " [(3, ((3, 5) TYPE : 4), 7),\n",
       "  (1, ((2, 4) TYPE : 0), 7),\n",
       "  (2, ((1, 5) TYPE : 0), 7),\n",
       "  (1, ((1, 4) TYPE : 1), 7)],\n",
       " [(3, ((2, 6) TYPE : 0), 8),\n",
       "  (1, ((1, 4) TYPE : 1), 8),\n",
       "  (2, ((2, 6) TYPE : 0), 8),\n",
       "  (1, ((1, 5) TYPE : 0), 8)],\n",
       " [(3, ((3, 7) TYPE : 2), 10),\n",
       "  (1, ((0, 3) TYPE : 0), 9),\n",
       "  (2, ((1, 5) TYPE : 0), 9),\n",
       "  (1, ((2, 6) TYPE : 0), 9)],\n",
       " [(3, ((3, 7) TYPE : 2), 10),\n",
       "  (1, ((1, 4) TYPE : 1), 10),\n",
       "  (2, ((2, 6) TYPE : 0), 10),\n",
       "  (1, ((1, 5) TYPE : 0), 10)],\n",
       " [(3, ((2, 6) TYPE : 0), 11),\n",
       "  (1, ((2, 4) TYPE : 0), 11),\n",
       "  (2, ((3, 7) TYPE : 2), 11),\n",
       "  (1, ((1, 6) TYPE : 4), 11)],\n",
       " [(3, ((3, 5) TYPE : 4), 12),\n",
       "  (1, ((3, 5) TYPE : 4), 12),\n",
       "  (2, ((3, 8) TYPE : 2), 13),\n",
       "  (1, ((1, 5) TYPE : 0), 12)],\n",
       " [(3, ((4, 5) TYPE : 0), 13),\n",
       "  (1, ((2, 4) TYPE : 0), 13),\n",
       "  (2, ((3, 8) TYPE : 2), 13),\n",
       "  (1, ((2, 4) TYPE : 0), 13),\n",
       "  (1, ((1, 4) TYPE : 1), 13)],\n",
       " [(1, ((3, 5) TYPE : 4), 14)],\n",
       " [],\n",
       " [],\n",
       " [],\n",
       " [],\n",
       " [],\n",
       " []]"
      ]
     },
     "execution_count": 139,
     "metadata": {},
     "output_type": "execute_result"
    }
   ],
   "source": [
    "rwa.get_schedule()"
   ]
  },
  {
   "cell_type": "code",
   "execution_count": 140,
   "metadata": {},
   "outputs": [
    {
     "name": "stdout",
     "output_type": "stream",
     "text": [
      "Rewards: 23000.0, COST: 28500.0, $ LEFT: 0.0\n"
     ]
    },
    {
     "data": {
      "text/plain": [
       "-5500.0"
      ]
     },
     "execution_count": 140,
     "metadata": {},
     "output_type": "execute_result"
    }
   ],
   "source": [
    "rwa.get_profit()"
   ]
  }
 ],
 "metadata": {
  "kernelspec": {
   "display_name": "Python 3 (ipykernel)",
   "language": "python",
   "name": "python3"
  },
  "language_info": {
   "codemirror_mode": {
    "name": "ipython",
    "version": 3
   },
   "file_extension": ".py",
   "mimetype": "text/x-python",
   "name": "python",
   "nbconvert_exporter": "python",
   "pygments_lexer": "ipython3",
   "version": "3.11.8"
  }
 },
 "nbformat": 4,
 "nbformat_minor": 4
}
